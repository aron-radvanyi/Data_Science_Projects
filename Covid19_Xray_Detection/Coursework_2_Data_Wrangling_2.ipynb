{
  "nbformat": 4,
  "nbformat_minor": 0,
  "metadata": {
    "colab": {
      "provenance": [],
      "gpuType": "T4"
    },
    "kernelspec": {
      "name": "python3",
      "display_name": "Python 3"
    },
    "language_info": {
      "name": "python"
    },
    "accelerator": "GPU",
    "gpuClass": "standard"
  },
  "cells": [
    {
      "cell_type": "markdown",
      "source": [
        "# **1 Importing libraries**"
      ],
      "metadata": {
        "id": "oaHA8ByPcx4c"
      }
    },
    {
      "cell_type": "code",
      "source": [
        "#connecting the google drive \n",
        "from google.colab import drive\n",
        "drive.mount('/content/drive')"
      ],
      "metadata": {
        "colab": {
          "base_uri": "https://localhost:8080/"
        },
        "id": "wRVema0Ycyvz",
        "outputId": "e2d907bb-9c12-4744-e5d8-50371104f20a"
      },
      "execution_count": null,
      "outputs": [
        {
          "output_type": "stream",
          "name": "stdout",
          "text": [
            "Mounted at /content/drive\n"
          ]
        }
      ]
    },
    {
      "cell_type": "code",
      "source": [
        "#importing libraries \n",
        "import numpy as np\n",
        "import pandas as pd\n",
        "import pathlib\n",
        "import matplotlib.pyplot as plt\n",
        "import matplotlib.image as matimg\n",
        "import random \n",
        "import cv2\n",
        "\n",
        "import tensorflow as tf\n",
        "from tensorflow import keras\n",
        "\n",
        "import os,glob,PIL\n",
        "from sklearn import preprocessing\n",
        "from sklearn.model_selection import train_test_split\n",
        "\n",
        "\n",
        "from keras.models import Sequential\n",
        "from keras.layers import Dense,Flatten, Dropout,BatchNormalization,Conv2D,MaxPooling2D\n",
        "from tensorflow.keras.optimizers import Adam"
      ],
      "metadata": {
        "id": "HBwEh4t3p6nR"
      },
      "execution_count": null,
      "outputs": []
    },
    {
      "cell_type": "markdown",
      "source": [],
      "metadata": {
        "id": "-zSBzkrXdDiv"
      }
    },
    {
      "cell_type": "markdown",
      "source": [
        "#**2 Data preparation**"
      ],
      "metadata": {
        "id": "pLW8frPjckjb"
      }
    },
    {
      "cell_type": "code",
      "source": [
        "#making variables of the data diretories \n",
        "train_dir = \"/content/drive/MyDrive/Covid19-dataset/train\"\n",
        "test_dir = \"/content/drive/MyDrive/Covid19-dataset/test\""
      ],
      "metadata": {
        "id": "le15e7_sqKRD"
      },
      "execution_count": null,
      "outputs": []
    },
    {
      "cell_type": "code",
      "source": [
        "#splitting the train_dataset into train  and shaping it into an adequate 224,224 size for VGG19 \n",
        "image_h,image_w = 224,224\n",
        "size_batch = 32\n",
        "train_dataset = tf.keras.preprocessing.image_dataset_from_directory(\n",
        "    train_dir,\n",
        "    validation_split = 0.20,\n",
        "    subset = \"training\",\n",
        "    seed = 123,\n",
        "    label_mode = \"categorical\",\n",
        "    image_size=(image_h,image_w),\n",
        "    batch_size = size_batch\n",
        ")"
      ],
      "metadata": {
        "colab": {
          "base_uri": "https://localhost:8080/"
        },
        "id": "H4G0RomnunDt",
        "outputId": "b3718e07-4a6b-4364-81b5-41382e481b78"
      },
      "execution_count": null,
      "outputs": [
        {
          "output_type": "stream",
          "name": "stdout",
          "text": [
            "Found 251 files belonging to 3 classes.\n",
            "Using 201 files for training.\n"
          ]
        }
      ]
    },
    {
      "cell_type": "code",
      "source": [
        "#splitting the train_dataset into validation dataset,shaping it into 224,224 sizes for VGG19\n",
        "validation_dataset = tf.keras.preprocessing.image_dataset_from_directory(\n",
        "    train_dir,\n",
        "    validation_split = 0.20,\n",
        "    subset = \"validation\",\n",
        "    seed = 123,\n",
        "    label_mode = \"categorical\",\n",
        "    image_size=(image_h,image_w),\n",
        "    batch_size = size_batch\n",
        ")"
      ],
      "metadata": {
        "colab": {
          "base_uri": "https://localhost:8080/"
        },
        "id": "vNCVr1UgyGAJ",
        "outputId": "5e661c1a-ccdd-4713-e900-64ec704f762d"
      },
      "execution_count": null,
      "outputs": [
        {
          "output_type": "stream",
          "name": "stdout",
          "text": [
            "Found 251 files belonging to 3 classes.\n",
            "Using 50 files for validation.\n"
          ]
        }
      ]
    },
    {
      "cell_type": "code",
      "source": [
        "#test_dataset shaping it into 224,224 sizes for VGG19\n",
        "test_dataset = tf.keras.preprocessing.image_dataset_from_directory(\n",
        "    test_dir,\n",
        "    seed = 123,\n",
        "    label_mode = \"categorical\",\n",
        "    image_size=(image_h,image_w),\n",
        "    batch_size = size_batch\n",
        ")"
      ],
      "metadata": {
        "colab": {
          "base_uri": "https://localhost:8080/"
        },
        "id": "UGwOK7d7j9mz",
        "outputId": "9213e733-9e0c-47fc-9443-01318a31e814"
      },
      "execution_count": null,
      "outputs": [
        {
          "output_type": "stream",
          "name": "stdout",
          "text": [
            "Found 66 files belonging to 3 classes.\n"
          ]
        }
      ]
    },
    {
      "cell_type": "code",
      "source": [
        "label_names = train_dataset.class_names\n",
        "label_names"
      ],
      "metadata": {
        "colab": {
          "base_uri": "https://localhost:8080/"
        },
        "id": "6ueZjdazzDBn",
        "outputId": "21e49081-5f3a-413d-aa3c-773f97f3056b"
      },
      "execution_count": null,
      "outputs": [
        {
          "output_type": "execute_result",
          "data": {
            "text/plain": [
              "['Covid', 'Normal', 'Viral Pneumonia']"
            ]
          },
          "metadata": {},
          "execution_count": 7
        }
      ]
    },
    {
      "cell_type": "code",
      "source": [
        "label_names_test = test_dataset\n",
        "label_names"
      ],
      "metadata": {
        "colab": {
          "base_uri": "https://localhost:8080/"
        },
        "id": "YlvxIqRYhG2E",
        "outputId": "ef0cbe4b-9898-4374-bc88-ea21e911f87d"
      },
      "execution_count": null,
      "outputs": [
        {
          "output_type": "execute_result",
          "data": {
            "text/plain": [
              "['Covid', 'Normal', 'Viral Pneumonia']"
            ]
          },
          "metadata": {},
          "execution_count": 8
        }
      ]
    },
    {
      "cell_type": "markdown",
      "source": [
        "# **3 Adding the pre-trained model and the additional layers**"
      ],
      "metadata": {
        "id": "1v9_yXC5cQpF"
      }
    },
    {
      "cell_type": "code",
      "source": [
        "from keras.applications import VGG19\n",
        "#creating the model \n",
        "VGG19_model = Sequential()\n",
        "\n",
        "#using keras VGG19 as base pre-trained model with softmax activation becasue we need multiclass classification as there are 3 cathegories\n",
        "standard_model= tf.keras.applications.VGG19(\n",
        "    include_top= False,\n",
        "    input_shape=(224,224,3),\n",
        "    input_tensor=None,\n",
        "    weights=\"imagenet\",\n",
        "    pooling = None,\n",
        "    classes = 3,\n",
        "    classifier_activation=\"softmax\"\n",
        "    )\n",
        "\n",
        "#creating a loop to instruct the layers to not be trainable\n",
        "for layer in standard_model.layers:\n",
        "  layer.trainable=False\n",
        "\n",
        "#adding the additional layers to the model \n",
        "VGG19_model.add(standard_model)\n",
        "VGG19_model.add(Flatten())\n",
        "VGG19_model.add(Dense(512,activation=\"relu\"))\n",
        "VGG19_model.add(Dense(3,activation=\"softmax\"))"
      ],
      "metadata": {
        "id": "zAz-Fj2qzh3a",
        "colab": {
          "base_uri": "https://localhost:8080/"
        },
        "outputId": "fde99c85-b972-4ee0-8e9e-0be3c65adff0"
      },
      "execution_count": null,
      "outputs": [
        {
          "output_type": "stream",
          "name": "stdout",
          "text": [
            "Downloading data from https://storage.googleapis.com/tensorflow/keras-applications/vgg19/vgg19_weights_tf_dim_ordering_tf_kernels_notop.h5\n",
            "80134624/80134624 [==============================] - 0s 0us/step\n"
          ]
        }
      ]
    },
    {
      "cell_type": "code",
      "source": [
        "VGG19_model.summary()"
      ],
      "metadata": {
        "colab": {
          "base_uri": "https://localhost:8080/"
        },
        "id": "1bPdHuSpDNIg",
        "outputId": "603b45f4-e7c1-4883-f531-2cc5dad661ca"
      },
      "execution_count": null,
      "outputs": [
        {
          "output_type": "stream",
          "name": "stdout",
          "text": [
            "Model: \"sequential\"\n",
            "_________________________________________________________________\n",
            " Layer (type)                Output Shape              Param #   \n",
            "=================================================================\n",
            " vgg19 (Functional)          (None, 7, 7, 512)         20024384  \n",
            "                                                                 \n",
            " flatten (Flatten)           (None, 25088)             0         \n",
            "                                                                 \n",
            " dense (Dense)               (None, 512)               12845568  \n",
            "                                                                 \n",
            " dense_1 (Dense)             (None, 3)                 1539      \n",
            "                                                                 \n",
            "=================================================================\n",
            "Total params: 32,871,491\n",
            "Trainable params: 12,847,107\n",
            "Non-trainable params: 20,024,384\n",
            "_________________________________________________________________\n"
          ]
        }
      ]
    },
    {
      "cell_type": "markdown",
      "source": [
        "#**4 Training the Model** "
      ],
      "metadata": {
        "id": "jxZCkwdZwEyA"
      }
    },
    {
      "cell_type": "code",
      "source": [
        "#compiling the model \n",
        "VGG19_model.compile(optimizer=Adam(learning_rate=0.001),loss=\"categorical_crossentropy\",metrics=[\"accuracy\"])"
      ],
      "metadata": {
        "id": "oamG9s6KDoQE"
      },
      "execution_count": null,
      "outputs": []
    },
    {
      "cell_type": "code",
      "source": [
        "#training the model with the train_dataset and 10 epochs\n",
        "epochs = 10\n",
        "h = VGG19_model.fit(\n",
        "    train_dataset,\n",
        "    validation_data = validation_dataset,\n",
        "    epochs=epochs\n",
        ")"
      ],
      "metadata": {
        "colab": {
          "base_uri": "https://localhost:8080/"
        },
        "id": "gUlkC-iyEdbA",
        "outputId": "fadb3bbc-1754-4cce-e327-4361810aa4fe"
      },
      "execution_count": null,
      "outputs": [
        {
          "output_type": "stream",
          "name": "stdout",
          "text": [
            "Epoch 1/10\n",
            "7/7 [==============================] - 224s 29s/step - loss: 103.2733 - accuracy: 0.4975 - val_loss: 35.2159 - val_accuracy: 0.7400\n",
            "Epoch 2/10\n",
            "7/7 [==============================] - 201s 29s/step - loss: 15.1470 - accuracy: 0.9005 - val_loss: 26.5397 - val_accuracy: 0.9200\n",
            "Epoch 3/10\n",
            "7/7 [==============================] - 195s 28s/step - loss: 6.9254 - accuracy: 0.9552 - val_loss: 23.9312 - val_accuracy: 0.9200\n",
            "Epoch 4/10\n",
            "7/7 [==============================] - 199s 29s/step - loss: 0.9103 - accuracy: 0.9801 - val_loss: 12.8150 - val_accuracy: 0.9200\n",
            "Epoch 5/10\n",
            "7/7 [==============================] - 204s 29s/step - loss: 0.3509 - accuracy: 0.9950 - val_loss: 10.3088 - val_accuracy: 0.9400\n",
            "Epoch 6/10\n",
            "7/7 [==============================] - 197s 28s/step - loss: 0.0697 - accuracy: 0.9950 - val_loss: 9.9507 - val_accuracy: 0.9400\n",
            "Epoch 7/10\n",
            "7/7 [==============================] - 199s 28s/step - loss: 0.0000e+00 - accuracy: 1.0000 - val_loss: 10.1290 - val_accuracy: 0.9400\n",
            "Epoch 8/10\n",
            "7/7 [==============================] - 196s 28s/step - loss: 0.0000e+00 - accuracy: 1.0000 - val_loss: 10.2942 - val_accuracy: 0.9400\n",
            "Epoch 9/10\n",
            "7/7 [==============================] - 199s 29s/step - loss: 0.0000e+00 - accuracy: 1.0000 - val_loss: 10.3790 - val_accuracy: 0.9400\n",
            "Epoch 10/10\n",
            "7/7 [==============================] - 196s 28s/step - loss: 0.0000e+00 - accuracy: 1.0000 - val_loss: 10.4208 - val_accuracy: 0.9400\n"
          ]
        }
      ]
    },
    {
      "cell_type": "markdown",
      "source": [
        "# **5 Testing the model's accuracy and loss**"
      ],
      "metadata": {
        "id": "S3tFUlC9dLar"
      }
    },
    {
      "cell_type": "code",
      "source": [
        "#testing the model and printing the accuracy\n",
        "results = VGG19_model.evaluate(test_dataset,batch_size=size_batch,verbose=1)\n",
        "print(\"CNN Accuracy: %.2f%%\" % (results[1] *100))\n"
      ],
      "metadata": {
        "id": "2wgWxHyAqk0m",
        "colab": {
          "base_uri": "https://localhost:8080/"
        },
        "outputId": "61a69d76-7af3-4278-88e8-17e8b1171fa5"
      },
      "execution_count": null,
      "outputs": [
        {
          "output_type": "stream",
          "name": "stdout",
          "text": [
            "3/3 [==============================] - 63s 14s/step - loss: 7.8531 - accuracy: 0.9242\n",
            "CNN Accuracy: 92.42%\n"
          ]
        }
      ]
    },
    {
      "cell_type": "code",
      "source": [
        "#plotting the model's accuracy vs the epochs\n",
        "figure_1 = plt.gcf()\n",
        "plt.plot(h.history[\"accuracy\"])\n",
        "plt.plot(h.history[\"val_accuracy\"])\n",
        "plt.axis(ymin=0.5,ymax=1)\n",
        "plt.grid()\n",
        "plt.title(\"The Model's Accuracy\")\n",
        "plt.ylabel(\"Accuracy\")\n",
        "plt.xlabel(\"Epochs\")\n",
        "plt.legend([\"train\",\"validation\"])\n",
        "plt.show()"
      ],
      "metadata": {
        "colab": {
          "base_uri": "https://localhost:8080/",
          "height": 472
        },
        "id": "sgK83FUpo97Y",
        "outputId": "99c441b0-db3f-42f1-ed78-85b8c89f7312"
      },
      "execution_count": null,
      "outputs": [
        {
          "output_type": "display_data",
          "data": {
            "text/plain": [
              "<Figure size 640x480 with 1 Axes>"
            ],
            "image/png": "[encoded data removed]"
          },
          "metadata": {}
        }
      ]
    },
    {
      "cell_type": "code",
      "source": [
        "#plotting the model's loss vs the epochs \n",
        "plt.plot(h.history[\"loss\"])\n",
        "plt.plot(h.history[\"val_loss\"])\n",
        "plt.grid()\n",
        "plt.title(\"The Model's Loss\")\n",
        "plt.ylabel(\"Loss\")\n",
        "plt.xlabel(\"Epochs\")\n",
        "plt.legend([\"train\",\"validation\"])\n",
        "plt.show()"
      ],
      "metadata": {
        "colab": {
          "base_uri": "https://localhost:8080/",
          "height": 472
        },
        "id": "DPj6R2nHwxos",
        "outputId": "28aeb55e-1efa-4916-f666-a32ef1cb0916"
      },
      "execution_count": null,
      "outputs": [
        {
          "output_type": "display_data",
          "data": {
            "text/plain": [
              "<Figure size 640x480 with 1 Axes>"
            ],
            "image/png": "[encoded data removed]"
          },
          "metadata": {}
        }
      ]
    },
    {
      "cell_type": "markdown",
      "source": [
        "# **6 Making Predictions**"
      ],
      "metadata": {
        "id": "TbGtcXLAehvG"
      }
    },
    {
      "cell_type": "markdown",
      "source": [
        "##**6.1 Creating list of all test images**"
      ],
      "metadata": {
        "id": "zwKXF26BwBg9"
      }
    },
    {
      "cell_type": "code",
      "source": [
        "#making a directory for covid images\n",
        "path_covid = glob.glob(\"/content/drive/MyDrive/Covid19-dataset/test/Covid/*\")\n",
        "#making a list of covid images using glob, sing the cv2.imread() functon to read image from director\n",
        "#and reshaping it + making it four dimensional \n",
        "all_covid_imgs = []\n",
        "for img in path_covid:\n",
        "  n = cv2.imread(str(img))\n",
        "  img_resized = cv2.resize(n,(image_h,image_w))\n",
        "  n = np.expand_dims(img_resized,axis=0)\n",
        "  all_covid_imgs.append(n)"
      ],
      "metadata": {
        "id": "BA_UbRM44WBH"
      },
      "execution_count": null,
      "outputs": []
    },
    {
      "cell_type": "code",
      "source": [
        "path_normal = glob.glob(\"/content/drive/MyDrive/Covid19-dataset/test/Normal/*\")\n",
        "all_normal_imgs = []\n",
        "for img in path_normal:\n",
        "  n = cv2.imread(str(img))\n",
        "  img_resized = cv2.resize(n,(image_h,image_w))\n",
        "  n = np.expand_dims(img_resized,axis=0)\n",
        "  all_normal_imgs.append(n)"
      ],
      "metadata": {
        "id": "YRzAiCeF6X0D"
      },
      "execution_count": null,
      "outputs": []
    },
    {
      "cell_type": "code",
      "source": [
        "path_viral = glob.glob(\"/content/drive/MyDrive/Covid19-dataset/test/Viral Pneumonia/*\")\n",
        "all_viral_imgs = []\n",
        "for img in path_viral:\n",
        "  n = cv2.imread(str(img))\n",
        "  img_resized = cv2.resize(n,(image_h,image_w))\n",
        "  n = np.expand_dims(img_resized,axis=0)\n",
        "  all_viral_imgs.append(n)"
      ],
      "metadata": {
        "id": "YC7EC_yQ6mjj"
      },
      "execution_count": null,
      "outputs": []
    },
    {
      "cell_type": "markdown",
      "source": [
        "##**6.2 Creating lists of predictions on images**"
      ],
      "metadata": {
        "id": "cagK3o0iwaQx"
      }
    },
    {
      "cell_type": "code",
      "source": [
        "#creating a list for all_covid_predictions\n",
        "prediction_all_covid = []\n",
        "#predicting all images with the VGG19 model\n",
        "for img in all_covid_imgs:\n",
        "  prediction = VGG19_model.predict(img)\n",
        "  prediction_all_covid.append(prediction)"
      ],
      "metadata": {
        "id": "1C5aqc-Ao9ot"
      },
      "execution_count": null,
      "outputs": []
    },
    {
      "cell_type": "code",
      "source": [
        "prediction_all_normal = []\n",
        "\n",
        "for img in all_normal_imgs:\n",
        "  prediction = VGG19_model.predict(img)\n",
        "  prediction_all_normal.append(prediction)"
      ],
      "metadata": {
        "id": "fcD5SbF_7r2k"
      },
      "execution_count": null,
      "outputs": []
    },
    {
      "cell_type": "code",
      "source": [
        "prediction_all_viral = []\n",
        "\n",
        "for img in all_viral_imgs:\n",
        "  prediction = VGG19_model.predict(img)\n",
        "  prediction_all_viral.append(prediction)"
      ],
      "metadata": {
        "id": "2XnB2RZn781H"
      },
      "execution_count": null,
      "outputs": []
    },
    {
      "cell_type": "code",
      "source": [
        "#creating list for the labels of predicted images\n",
        "output_class_all_covid_pred = []\n",
        "#adding the labels of predicted images into the list using numpy.argmax\n",
        "for pred in prediction_all_covid:\n",
        "  output=label_names[np.argmax(pred)]\n",
        "  output_class_all_covid_pred.append(output)"
      ],
      "metadata": {
        "id": "1Zh1tORqu9F0"
      },
      "execution_count": null,
      "outputs": []
    },
    {
      "cell_type": "code",
      "source": [
        "output_class_all_normal_pred = []\n",
        "\n",
        "for pred in prediction_all_normal:\n",
        "  output=label_names[np.argmax(pred)]\n",
        "  output_class_all_normal_pred.append(output)"
      ],
      "metadata": {
        "id": "0CYz4Ksw85G8"
      },
      "execution_count": null,
      "outputs": []
    },
    {
      "cell_type": "code",
      "source": [
        "output_class_all_viral_pred = []\n",
        "\n",
        "for pred in prediction_all_viral:\n",
        "  output=label_names[np.argmax(pred)]\n",
        "  output_class_all_viral_pred.append(output)"
      ],
      "metadata": {
        "id": "ZxQsdG759Ca3"
      },
      "execution_count": null,
      "outputs": []
    },
    {
      "cell_type": "code",
      "source": [
        "#printing out the labels for all predictions to see false positives\n",
        "print(output_class_all_covid_pred)\n",
        "print(output_class_all_normal_pred)\n",
        "print(output_class_all_viral_pred)"
      ],
      "metadata": {
        "colab": {
          "base_uri": "https://localhost:8080/"
        },
        "id": "qtmGlOcb9rTf",
        "outputId": "f07b9f5a-045e-41e0-93c2-15c70ddd8ee3"
      },
      "execution_count": null,
      "outputs": [
        {
          "output_type": "stream",
          "name": "stdout",
          "text": [
            "['Covid', 'Covid', 'Covid', 'Covid', 'Covid', 'Covid', 'Covid', 'Covid', 'Covid', 'Covid', 'Covid', 'Covid', 'Covid', 'Covid', 'Covid', 'Covid', 'Covid', 'Covid', 'Covid', 'Covid', 'Covid', 'Covid', 'Covid', 'Normal', 'Covid', 'Covid']\n",
            "['Normal', 'Normal', 'Normal', 'Viral Pneumonia', 'Normal', 'Normal', 'Normal', 'Normal', 'Normal', 'Normal', 'Normal', 'Normal', 'Normal', 'Normal', 'Normal', 'Normal', 'Normal', 'Viral Pneumonia', 'Viral Pneumonia', 'Viral Pneumonia']\n",
            "['Viral Pneumonia', 'Viral Pneumonia', 'Viral Pneumonia', 'Viral Pneumonia', 'Viral Pneumonia', 'Viral Pneumonia', 'Viral Pneumonia', 'Viral Pneumonia', 'Viral Pneumonia', 'Viral Pneumonia', 'Viral Pneumonia', 'Viral Pneumonia', 'Viral Pneumonia', 'Viral Pneumonia', 'Viral Pneumonia', 'Viral Pneumonia', 'Viral Pneumonia', 'Viral Pneumonia', 'Viral Pneumonia', 'Viral Pneumonia']\n"
          ]
        }
      ]
    },
    {
      "cell_type": "code",
      "source": [
        "#making labels for all actual images \n",
        "output_class_all_covid_actual = []\n",
        "for actual in all_covid_imgs:  \n",
        "  output_class_all_covid_actual.append(\"Covid\")"
      ],
      "metadata": {
        "id": "E7NVlz3GwoHd"
      },
      "execution_count": null,
      "outputs": []
    },
    {
      "cell_type": "code",
      "source": [
        "output_class_all_normal_actual = []\n",
        "for actual in all_normal_imgs:  \n",
        "  output_class_all_normal_actual.append(\"Normal\")"
      ],
      "metadata": {
        "id": "m0tg51jm-dEW"
      },
      "execution_count": null,
      "outputs": []
    },
    {
      "cell_type": "code",
      "source": [
        "output_class_all_viral_actual = []\n",
        "for actual in all_viral_imgs:  \n",
        "  output_class_all_viral_actual.append(\"Viral\")"
      ],
      "metadata": {
        "id": "I57lFs_A-jGV"
      },
      "execution_count": null,
      "outputs": []
    },
    {
      "cell_type": "markdown",
      "source": [
        "#**7 Evaluation**"
      ],
      "metadata": {
        "id": "HdvOALclwuyy"
      }
    },
    {
      "cell_type": "code",
      "source": [
        "#adding the list of labels together to be able to compare \n",
        "actual = []\n",
        "actual = output_class_all_covid_actual + output_class_all_normal_actual + output_class_all_viral_actual\n",
        "\n",
        "predicted = []\n",
        "predicted = output_class_all_covid_pred + output_class_all_normal_pred + output_class_all_viral_pred"
      ],
      "metadata": {
        "id": "ZliSOk9r-y8G"
      },
      "execution_count": null,
      "outputs": []
    },
    {
      "cell_type": "markdown",
      "source": [
        "##**7.1 Confusion matrix**"
      ],
      "metadata": {
        "id": "TcGjQHwJw4ke"
      }
    },
    {
      "cell_type": "code",
      "source": [
        "#importing libraries\n",
        "from sklearn.metrics import confusion_matrix\n",
        "from mlxtend.plotting import plot_confusion_matrix\n",
        "from sklearn.metrics import accuracy_score, precision_score, recall_score, f1_score\n",
        "#making the confusion matrix using the all actual and all predicted labels\n",
        "confusion = confusion_matrix(actual,predicted)"
      ],
      "metadata": {
        "id": "ZXUUb7Kazk9Q"
      },
      "execution_count": null,
      "outputs": []
    },
    {
      "cell_type": "code",
      "source": [
        "#creating a dataframe using the confusion matrix's results and adding columns and rows\n",
        "confusion_df = pd.DataFrame(confusion,\n",
        "                            index = [\"Covid\",\"Normal\",\"Viral\",\"\"],\n",
        "                            columns = [\"Covid\",\"Normal\",\"\",\"Viral\"]\n",
        "                            )"
      ],
      "metadata": {
        "id": "AfFZ9BvZ2o25"
      },
      "execution_count": null,
      "outputs": []
    },
    {
      "cell_type": "code",
      "source": [
        "#plotting the confusion matrix results using seaborn\n",
        "import seaborn as sns\n",
        "plt.figure(figsize=(6,4))\n",
        "sns.heatmap(confusion_df,annot=True)\n",
        "plt.title('Confusion Matrix')\n",
        "plt.ylabel('Actual Values')\n",
        "plt.xlabel('Predicted Values')\n",
        "plt.show()"
      ],
      "metadata": {
        "colab": {
          "base_uri": "https://localhost:8080/",
          "height": 410
        },
        "id": "JBhmLdly3UQ_",
        "outputId": "59e35162-9429-49db-8e40-0a6749acb57a"
      },
      "execution_count": null,
      "outputs": [
        {
          "output_type": "display_data",
          "data": {
            "text/plain": [
              "<Figure size 600x400 with 2 Axes>"
            ],
            "image/png": "[encoded data removed]"
          },
          "metadata": {}
        }
      ]
    },
    {
      "cell_type": "markdown",
      "source": [
        "##**7.2 Precision, Recall, F1-score**"
      ],
      "metadata": {
        "id": "Yt052EkGxLkh"
      }
    },
    {
      "cell_type": "code",
      "source": [
        "#using the sklearn.metrics for precision, recall, and F1-score\n",
        "print('Weighted Precision Covid: {:.2f}'.format(precision_score(output_class_all_covid_actual, output_class_all_covid_pred, average='weighted')))\n",
        "print('Weighted Precision Normal: {:.2f}'.format(precision_score(output_class_all_normal_actual, output_class_all_normal_pred, average='weighted')))\n",
        "print('Weighted Precision Viral: {:.2f}'.format(precision_score(output_class_all_viral_actual, output_class_all_viral_pred, average='weighted',zero_division=1)))\n",
        "\n",
        "print('\\nWeighted Recall Covid: {:.2f}'.format(recall_score(output_class_all_covid_actual, output_class_all_covid_pred, average='weighted',zero_division=1)))\n",
        "print('Weighted Recall Normal: {:.2f}'.format(recall_score(output_class_all_normal_actual, output_class_all_normal_pred, average='weighted',zero_division=1)))\n",
        "print('Weighted Recall Viral: {:.2f}'.format(recall_score(output_class_all_viral_actual, output_class_all_viral_pred, average='macro',zero_division=1)))\n",
        "\n",
        "print('\\nWeighted F1-score Covid: {:.2f}'.format(f1_score(output_class_all_covid_actual, output_class_all_covid_pred, average='weighted')))\n",
        "print('Weighted F1-score Normal: {:.2f}'.format(f1_score(output_class_all_normal_actual, output_class_all_normal_pred, average='weighted')))\n",
        "print('Weighted F1-score Viral: {:.2f}'.format(f1_score(output_class_all_viral_actual, output_class_all_viral_pred, average='weighted')))"
      ],
      "metadata": {
        "colab": {
          "base_uri": "https://localhost:8080/"
        },
        "id": "ADVWRVAyJ1Zv",
        "outputId": "434d20b1-842a-417c-a4ea-cc7dbfe0ade4"
      },
      "execution_count": null,
      "outputs": [
        {
          "output_type": "stream",
          "name": "stdout",
          "text": [
            "Weighted Precision Covid: 1.00\n",
            "Weighted Precision Normal: 1.00\n",
            "Weighted Precision Viral: 1.00\n",
            "\n",
            "Weighted Recall Covid: 0.96\n",
            "Weighted Recall Normal: 0.80\n",
            "Weighted Recall Viral: 0.50\n",
            "\n",
            "Weighted F1-score Covid: 0.98\n",
            "Weighted F1-score Normal: 0.89\n",
            "Weighted F1-score Viral: 0.00\n"
          ]
        }
      ]
    },
    {
      "cell_type": "markdown",
      "source": [],
      "metadata": {
        "id": "FoAVQtpFFHP1"
      }
    }
  ]
}